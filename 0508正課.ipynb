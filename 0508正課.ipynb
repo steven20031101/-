{
  "nbformat": 4,
  "nbformat_minor": 0,
  "metadata": {
    "colab": {
      "provenance": [],
      "authorship_tag": "ABX9TyODaxsx3/iCw+SLkgjBj24h",
      "include_colab_link": true
    },
    "kernelspec": {
      "name": "python3",
      "display_name": "Python 3"
    },
    "language_info": {
      "name": "python"
    }
  },
  "cells": [
    {
      "cell_type": "markdown",
      "metadata": {
        "id": "view-in-github",
        "colab_type": "text"
      },
      "source": [
        "<a href=\"https://colab.research.google.com/github/steven20031101/steven/blob/main/0508%E6%AD%A3%E8%AA%B2.ipynb\" target=\"_parent\"><img src=\"https://colab.research.google.com/assets/colab-badge.svg\" alt=\"Open In Colab\"/></a>"
      ]
    },
    {
      "cell_type": "code",
      "execution_count": 5,
      "metadata": {
        "colab": {
          "base_uri": "https://localhost:8080/"
        },
        "id": "0xwcTZrHo6lZ",
        "outputId": "2d56bec4-476b-4373-8994-2a71bd35c250"
      },
      "outputs": [
        {
          "output_type": "stream",
          "name": "stdout",
          "text": [
            "請輸入體溫55\n",
            "體溫過高!\n"
          ]
        }
      ],
      "source": [
        "temperature = float(input(\"請輸入體溫\"))\n",
        "if(temperature >= 37.5):\n",
        "  print(\"體溫過高!\")\n",
        "elif(temperature <= 37.4 and temperature >= 37):\n",
        "  print(\"體溫略高!\")\n",
        "elif(temperature <= 36.9 and temperature >= 34):\n",
        "  print(\"體溫正常\")\n",
        "else:\n",
        "  print(\"體溫異常，請重新量測!\")"
      ]
    },
    {
      "cell_type": "code",
      "source": [
        "temperature = float(input(\"請輸入體溫\"))\n",
        "if(temperature >= 37.5):\n",
        "  print(\"體溫過高!\")\n",
        "elif(temperature <= 37.4 and temperature >= 37):\n",
        "  print(\"體溫略高!\")\n",
        "elif(temperature <= 36.9 and temperature >= 34):\n",
        "  print(\"體溫正常\")\n",
        "else:\n",
        "  print(\"體溫異常，請重新量測!\")"
      ],
      "metadata": {
        "colab": {
          "base_uri": "https://localhost:8080/"
        },
        "id": "8KhD-vCstTqb",
        "outputId": "a9cc7f0c-03a1-4a9c-f224-5c069e9d8829"
      },
      "execution_count": 6,
      "outputs": [
        {
          "output_type": "stream",
          "name": "stdout",
          "text": [
            "請輸入體溫37.2\n",
            "體溫略高!\n"
          ]
        }
      ]
    },
    {
      "cell_type": "code",
      "source": [
        "temperature = float(input(\"請輸入體溫\"))\n",
        "if(temperature >= 37.5):\n",
        "  print(\"體溫過高!\")\n",
        "elif(temperature <= 37.4 and temperature >= 37):\n",
        "  print(\"體溫略高!\")\n",
        "elif(temperature <= 36.9 and temperature >= 34):\n",
        "  print(\"體溫正常\")\n",
        "else:\n",
        "  print(\"體溫異常，請重新量測!\")"
      ],
      "metadata": {
        "colab": {
          "base_uri": "https://localhost:8080/"
        },
        "id": "scel-SW3tXZ1",
        "outputId": "a8126f9c-dae3-445d-8214-5c6b6aa5c05d"
      },
      "execution_count": 8,
      "outputs": [
        {
          "output_type": "stream",
          "name": "stdout",
          "text": [
            "請輸入體溫35\n",
            "體溫正常\n"
          ]
        }
      ]
    },
    {
      "cell_type": "code",
      "source": [
        "temperature = float(input(\"請輸入體溫\"))\n",
        "if(temperature >= 37.5):\n",
        "  print(\"體溫過高!\")\n",
        "elif(temperature <= 37.4 and temperature >= 37):\n",
        "  print(\"體溫略高!\")\n",
        "elif(temperature <= 36.9 and temperature >= 34):\n",
        "  print(\"體溫正常\")\n",
        "else:\n",
        "  print(\"體溫異常，請重新量測!\")"
      ],
      "metadata": {
        "colab": {
          "base_uri": "https://localhost:8080/"
        },
        "id": "QD4Pi1GFthgP",
        "outputId": "b6bc4a24-ca6e-404c-86d2-0bd401cc3cd0"
      },
      "execution_count": 9,
      "outputs": [
        {
          "output_type": "stream",
          "name": "stdout",
          "text": [
            "請輸入體溫32\n",
            "體溫異常，請重新量測!\n"
          ]
        }
      ]
    },
    {
      "cell_type": "code",
      "source": [
        "grade = int(input(\"請輸入成績\"))\n",
        "if(grade >= 90):\n",
        "  print(\"A\")\n",
        "elif(grade <= 89 and grade >= 80):\n",
        "  print(\"B\")\n",
        "elif(grade <= 79 and grade >= 70):\n",
        "  print(\"C\")\n",
        "elif(grade <= 69 and grade >= 60):\n",
        "  print(\"D\")\n",
        "else:\n",
        "  print(\"E\")"
      ],
      "metadata": {
        "colab": {
          "base_uri": "https://localhost:8080/"
        },
        "id": "ReUNh4bUtk_1",
        "outputId": "299cb877-77d4-4980-9474-ae3a7686123a"
      },
      "execution_count": 10,
      "outputs": [
        {
          "output_type": "stream",
          "name": "stdout",
          "text": [
            "請輸入成績100\n",
            "A\n"
          ]
        }
      ]
    },
    {
      "cell_type": "code",
      "source": [
        "grade = int(input(\"請輸入成績\"))\n",
        "if(grade >= 90):\n",
        "  print(\"A\")\n",
        "elif(grade <= 89 and grade >= 80):\n",
        "  print(\"B\")\n",
        "elif(grade <= 79 and grade >= 70):\n",
        "  print(\"C\")\n",
        "elif(grade <= 69 and grade >= 60):\n",
        "  print(\"D\")\n",
        "else:\n",
        "  print(\"E\")"
      ],
      "metadata": {
        "colab": {
          "base_uri": "https://localhost:8080/"
        },
        "id": "oY42Wb7OubyY",
        "outputId": "e788c8d7-18d7-4e10-9979-36043fcbe048"
      },
      "execution_count": 11,
      "outputs": [
        {
          "output_type": "stream",
          "name": "stdout",
          "text": [
            "請輸入成績82\n",
            "B\n"
          ]
        }
      ]
    },
    {
      "cell_type": "code",
      "source": [
        "grade = int(input(\"請輸入成績\"))\n",
        "if(grade >= 90):\n",
        "  print(\"A\")\n",
        "elif(grade <= 89 and grade >= 80):\n",
        "  print(\"B\")\n",
        "elif(grade <= 79 and grade >= 70):\n",
        "  print(\"C\")\n",
        "elif(grade <= 69 and grade >= 60):\n",
        "  print(\"D\")\n",
        "else:\n",
        "  print(\"E\")"
      ],
      "metadata": {
        "colab": {
          "base_uri": "https://localhost:8080/"
        },
        "id": "pUsDU78kub6d",
        "outputId": "f6ca70ab-7580-402d-8ef0-7f53f4c63b1c"
      },
      "execution_count": 12,
      "outputs": [
        {
          "output_type": "stream",
          "name": "stdout",
          "text": [
            "請輸入成績77\n",
            "C\n"
          ]
        }
      ]
    },
    {
      "cell_type": "code",
      "source": [
        "grade = int(input(\"請輸入成績\"))\n",
        "if(grade >= 90):\n",
        "  print(\"A\")\n",
        "elif(grade <= 89 and grade >= 80):\n",
        "  print(\"B\")\n",
        "elif(grade <= 79 and grade >= 70):\n",
        "  print(\"C\")\n",
        "elif(grade <= 69 and grade >= 60):\n",
        "  print(\"D\")\n",
        "else:\n",
        "  print(\"E\")"
      ],
      "metadata": {
        "colab": {
          "base_uri": "https://localhost:8080/"
        },
        "id": "Y29usFKDucCh",
        "outputId": "a74b8aca-4983-4449-8039-ea984b3e508b"
      },
      "execution_count": 13,
      "outputs": [
        {
          "output_type": "stream",
          "name": "stdout",
          "text": [
            "請輸入成績65\n",
            "D\n"
          ]
        }
      ]
    },
    {
      "cell_type": "code",
      "source": [
        "grade = int(input(\"請輸入成績\"))\n",
        "if(grade >= 90):\n",
        "  print(\"A\")\n",
        "elif(grade <= 89 and grade >= 80):\n",
        "  print(\"B\")\n",
        "elif(grade <= 79 and grade >= 70):\n",
        "  print(\"C\")\n",
        "elif(grade <= 69 and grade >= 60):\n",
        "  print(\"D\")\n",
        "else:\n",
        "  print(\"E\")"
      ],
      "metadata": {
        "colab": {
          "base_uri": "https://localhost:8080/"
        },
        "id": "qv6ZrwE-ucKE",
        "outputId": "c15b120c-c712-4e9a-b5eb-4425b709e44d"
      },
      "execution_count": 14,
      "outputs": [
        {
          "output_type": "stream",
          "name": "stdout",
          "text": [
            "請輸入成績50\n",
            "E\n"
          ]
        }
      ]
    },
    {
      "cell_type": "code",
      "source": [
        "season = int(input(\"請輸入月份\"))\n",
        "if(season == 3 or season == 4 or season == 5):\n",
        "  print(\"春天!\")\n",
        "elif season == 6 or season == 7 or season == 8:\n",
        "  print(\"夏天!\")\n",
        "elif season == 9 or season == 10 or season == 11:\n",
        "  print(\"秋天!\")\n",
        "elif season == 12 or season == 1 or season == 2:\n",
        "  print(\"冬天!\")\n",
        "else:\n",
        "  print(\"月份不在範圍內!\")"
      ],
      "metadata": {
        "colab": {
          "base_uri": "https://localhost:8080/"
        },
        "id": "OvHBKteEunOh",
        "outputId": "01d7d217-a247-4225-e957-0f1ed1c8283f"
      },
      "execution_count": 19,
      "outputs": [
        {
          "output_type": "stream",
          "name": "stdout",
          "text": [
            "請輸入月份1\n",
            "冬天!\n"
          ]
        }
      ]
    },
    {
      "cell_type": "code",
      "source": [
        "season = int(input(\"請輸入月份\"))\n",
        "if(season == 3 or season == 4 or season == 5):\n",
        "  print(\"春天!\")\n",
        "elif season == 6 or season == 7 or season == 8:\n",
        "  print(\"夏天!\")\n",
        "elif season == 9 or season == 10 or season == 11:\n",
        "  print(\"秋天!\")\n",
        "elif season == 12 or season == 1 or season == 2:\n",
        "  print(\"冬天!\")\n",
        "else:\n",
        "  print(\"月份不在範圍內!\")"
      ],
      "metadata": {
        "colab": {
          "base_uri": "https://localhost:8080/"
        },
        "id": "1vmO2eS1v8wQ",
        "outputId": "cf28cdbb-6128-4de4-d544-2b881795d9bb"
      },
      "execution_count": 20,
      "outputs": [
        {
          "output_type": "stream",
          "name": "stdout",
          "text": [
            "請輸入月份3\n",
            "春天!\n"
          ]
        }
      ]
    },
    {
      "cell_type": "code",
      "source": [
        "season = int(input(\"請輸入月份\"))\n",
        "if(season == 3 or season == 4 or season == 5):\n",
        "  print(\"春天!\")\n",
        "elif season == 6 or season == 7 or season == 8:\n",
        "  print(\"夏天!\")\n",
        "elif season == 9 or season == 10 or season == 11:\n",
        "  print(\"秋天!\")\n",
        "elif season == 12 or season == 1 or season == 2:\n",
        "  print(\"冬天!\")\n",
        "else:\n",
        "  print(\"月份不在範圍內!\")"
      ],
      "metadata": {
        "colab": {
          "base_uri": "https://localhost:8080/"
        },
        "id": "E9EMEIjVv830",
        "outputId": "b5e785e1-bd5b-49fb-e131-de6aa0239afe"
      },
      "execution_count": 21,
      "outputs": [
        {
          "output_type": "stream",
          "name": "stdout",
          "text": [
            "請輸入月份7\n",
            "夏天!\n"
          ]
        }
      ]
    },
    {
      "cell_type": "code",
      "source": [
        "season = int(input(\"請輸入月份\"))\n",
        "if(season == 3 or season == 4 or season == 5):\n",
        "  print(\"春天!\")\n",
        "elif season == 6 or season == 7 or season == 8:\n",
        "  print(\"夏天!\")\n",
        "elif season == 9 or season == 10 or season == 11:\n",
        "  print(\"秋天!\")\n",
        "elif season == 12 or season == 1 or season == 2:\n",
        "  print(\"冬天!\")\n",
        "else:\n",
        "  print(\"月份不在範圍內!\")"
      ],
      "metadata": {
        "colab": {
          "base_uri": "https://localhost:8080/"
        },
        "id": "dcQhmJavv9BR",
        "outputId": "73744719-5353-40a8-d071-337ad678d884"
      },
      "execution_count": 23,
      "outputs": [
        {
          "output_type": "stream",
          "name": "stdout",
          "text": [
            "請輸入月份9\n",
            "秋天!\n"
          ]
        }
      ]
    },
    {
      "cell_type": "code",
      "source": [
        "season = int(input(\"請輸入月份\"))\n",
        "if(season == 3 or season == 4 or season == 5):\n",
        "  print(\"春天!\")\n",
        "elif season == 6 or season == 7 or season == 8:\n",
        "  print(\"夏天!\")\n",
        "elif season == 9 or season == 10 or season == 11:\n",
        "  print(\"秋天!\")\n",
        "elif season == 12 or season == 1 or season == 2:\n",
        "  print(\"冬天!\")\n",
        "else:\n",
        "  print(\"月份不在範圍內!\")"
      ],
      "metadata": {
        "colab": {
          "base_uri": "https://localhost:8080/"
        },
        "id": "WFI6oezJv9NL",
        "outputId": "145c8bad-f6e3-42b5-ee0f-574247653839"
      },
      "execution_count": 24,
      "outputs": [
        {
          "output_type": "stream",
          "name": "stdout",
          "text": [
            "請輸入月份1122\n",
            "月份不在範圍內!\n"
          ]
        }
      ]
    }
  ]
}